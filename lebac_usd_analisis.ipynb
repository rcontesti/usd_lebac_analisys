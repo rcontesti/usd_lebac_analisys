{
 "cells": [
  {
   "cell_type": "markdown",
   "metadata": {
    "colab_type": "text",
    "id": "Ddh5pkR54suh",
    "slideshow": {
     "slide_type": "slide"
    }
   },
   "source": [
    "# <a id=\"index\">INDEX</a>\n",
    "\n",
    "[Setup](#0)\n",
    "\n",
    "1. [Get Futures Data](#1)\n",
    "\n",
    "2. [Get FX Data](#2)\n",
    "\n",
    "3. [Get LEBAC DATA](#3)\n",
    "\n",
    "4. [Merge and Save to Pickle](#4)\n",
    "\n",
    "5. [Load Data](#5)\n",
    "\n",
    "6. [Plot Data](#6)"
   ]
  },
  {
   "cell_type": "markdown",
   "metadata": {
    "colab_type": "text",
    "id": "Z0hps3Kw4suj",
    "slideshow": {
     "slide_type": "skip"
    }
   },
   "source": [
    "# <a id=\"0\">SETUP</a>\n",
    "[Back to Index](#index)"
   ]
  },
  {
   "cell_type": "code",
   "execution_count": 1,
   "metadata": {
    "colab": {
     "autoexec": {
      "startup": false,
      "wait_interval": 0
     },
     "output_extras": [
      {}
     ]
    },
    "colab_type": "code",
    "id": "I6I7CMnm4suk",
    "outputId": "38ae970f-0114-4e17-8d1f-b3572979d000",
    "slideshow": {
     "slide_type": "skip"
    }
   },
   "outputs": [
    {
     "data": {
      "text/html": [
       "<script>\n",
       "code_show=true; \n",
       "function code_toggle() {\n",
       " if (code_show){\n",
       " $('div.input').hide();\n",
       " } else {\n",
       " $('div.input').show();\n",
       " }\n",
       " code_show = !code_show\n",
       "} \n",
       "$( document ).ready(code_toggle);\n",
       "</script>\n",
       "<form action=\"javascript:code_toggle()\"><input type=\"submit\" value=\"Code Show.\"></form>"
      ],
      "text/plain": [
       "<IPython.core.display.HTML object>"
      ]
     },
     "execution_count": 1,
     "metadata": {},
     "output_type": "execute_result"
    }
   ],
   "source": [
    "#CODE SHOW TOGGLE\n",
    "from IPython.display import HTML\n",
    "\n",
    "HTML('''<script>\n",
    "code_show=true; \n",
    "function code_toggle() {\n",
    " if (code_show){\n",
    " $('div.input').hide();\n",
    " } else {\n",
    " $('div.input').show();\n",
    " }\n",
    " code_show = !code_show\n",
    "} \n",
    "$( document ).ready(code_toggle);\n",
    "</script>\n",
    "<form action=\"javascript:code_toggle()\"><input type=\"submit\" value=\"Code Show.\"></form>''')"
   ]
  },
  {
   "cell_type": "code",
   "execution_count": 5,
   "metadata": {},
   "outputs": [
    {
     "name": "stdout",
     "output_type": "stream",
     "text": [
      "Solving environment: done\n",
      "\n",
      "# All requested packages already installed.\n",
      "\n",
      "yes: standard output: Broken pipe\n",
      "Done!\n"
     ]
    }
   ],
   "source": [
    "#INSTALL LIBRARIES\n",
    "!yes | conda install qgrid\n",
    "!echo \"Done!\""
   ]
  },
  {
   "cell_type": "code",
   "execution_count": 6,
   "metadata": {
    "colab": {
     "autoexec": {
      "startup": false,
      "wait_interval": 0
     }
    },
    "colab_type": "code",
    "collapsed": true,
    "id": "d-RfPbPz4suu",
    "slideshow": {
     "slide_type": "skip"
    }
   },
   "outputs": [],
   "source": [
    "#IMPORT LIBRARIES\n",
    "\n",
    "#% reset -f\n",
    "\n",
    "import pandas as pd\n",
    "import matplotlib.pyplot as plt\n",
    "\n",
    "%matplotlib inline\n",
    "from pandas.tseries.offsets import BMonthEnd\n",
    "import datetime as dt\n",
    "import seaborn as sns\n",
    "\n",
    "import qgrid\n",
    "from IPython.display import display\n",
    "    \n",
    "import numpy as np\n",
    "import datetime\n",
    "\n",
    "from __future__ import print_function\n",
    "from ipywidgets import interact, interactive, fixed, interact_manual, Layout\n",
    "import ipywidgets as widgets\n"
   ]
  },
  {
   "cell_type": "markdown",
   "metadata": {
    "colab_type": "text",
    "id": "hDcrjnJv4suy"
   },
   "source": [
    "# <a id=\"1\">1. Get Futures Data</a>\n",
    "\n",
    "[Back to Index](#index)\n",
    "\n",
    "1.1 Go to http://www.rofex.com.ar/cem/Fyo.aspx \n",
    "\n",
    "1.2 Select all fields for DLR Dolar Com A 3500 except put and call ticks\n",
    "\n",
    "1.3 Press view\n",
    "\n",
    "1.4 Press \"Exportar a Excel\""
   ]
  },
  {
   "cell_type": "markdown",
   "metadata": {
    "colab_type": "text",
    "id": "wyvS6l5Z4suy"
   },
   "source": [
    "![title](screens/fig1.png)"
   ]
  },
  {
   "cell_type": "code",
   "execution_count": 0,
   "metadata": {
    "colab": {
     "autoexec": {
      "startup": false,
      "wait_interval": 0
     },
     "output_extras": [
      {},
      {}
     ]
    },
    "colab_type": "code",
    "id": "YDjs8YZ74suz",
    "outputId": "6a4b35ec-d003-487a-a356-d4d08d4f6ffc"
   },
   "outputs": [
    {
     "name": "stdout",
     "output_type": "stream",
     "text": [
      "total 1328936\r\n",
      "-rw-r--r--@ 1 rcontesti  staff     580702 Dec 17 19:33 FyOROFEX.xls\r\n",
      "-rw-r--r--  1 rcontesti  staff     395094 Dec 10 11:56 data.pkl\r\n",
      "-rw-r--r--  1 rcontesti  staff     128552 Dec 10 17:56 lebac_sec\r\n",
      "-rw-rw-r--@ 1 rcontesti  staff  679302606 Dec  8 07:39 series-tiempo.csv\r\n"
     ]
    },
    {
     "data": {
      "text/html": [
       "<div>\n",
       "<style scoped>\n",
       "    .dataframe tbody tr th:only-of-type {\n",
       "        vertical-align: middle;\n",
       "    }\n",
       "\n",
       "    .dataframe tbody tr th {\n",
       "        vertical-align: top;\n",
       "    }\n",
       "\n",
       "    .dataframe thead th {\n",
       "        text-align: right;\n",
       "    }\n",
       "</style>\n",
       "<table border=\"1\" class=\"dataframe\">\n",
       "  <thead>\n",
       "    <tr style=\"text-align: right;\">\n",
       "      <th></th>\n",
       "      <th>Fecha</th>\n",
       "      <th>Posicion</th>\n",
       "      <th>Tipo</th>\n",
       "      <th>Ejercicio</th>\n",
       "      <th>Primero</th>\n",
       "      <th>Minimo</th>\n",
       "      <th>Maximo</th>\n",
       "      <th>Ultimo</th>\n",
       "      <th>Volumen</th>\n",
       "      <th>Ajuste / Prima Ref.</th>\n",
       "      <th>Interes Abierto</th>\n",
       "      <th>PrimaDescuento</th>\n",
       "      <th>Unnamed: 12</th>\n",
       "    </tr>\n",
       "  </thead>\n",
       "  <tbody>\n",
       "    <tr>\n",
       "      <th>0</th>\n",
       "      <td>15/12/2017 12:00:00 a.m.</td>\n",
       "      <td>DLR122017</td>\n",
       "      <td>Futuro</td>\n",
       "      <td>NaN</td>\n",
       "      <td>17.680</td>\n",
       "      <td>17.680</td>\n",
       "      <td>17.815</td>\n",
       "      <td>17.735</td>\n",
       "      <td>361750.0</td>\n",
       "      <td>17.735</td>\n",
       "      <td>1105801.0</td>\n",
       "      <td>NaN</td>\n",
       "      <td>NaN</td>\n",
       "    </tr>\n",
       "    <tr>\n",
       "      <th>1</th>\n",
       "      <td>15/12/2017 12:00:00 a.m.</td>\n",
       "      <td>DLR012018</td>\n",
       "      <td>Futuro</td>\n",
       "      <td>NaN</td>\n",
       "      <td>18.160</td>\n",
       "      <td>18.110</td>\n",
       "      <td>18.225</td>\n",
       "      <td>18.145</td>\n",
       "      <td>127939.0</td>\n",
       "      <td>18.145</td>\n",
       "      <td>735644.0</td>\n",
       "      <td>NaN</td>\n",
       "      <td>NaN</td>\n",
       "    </tr>\n",
       "    <tr>\n",
       "      <th>2</th>\n",
       "      <td>15/12/2017 12:00:00 a.m.</td>\n",
       "      <td>DLR022018</td>\n",
       "      <td>Futuro</td>\n",
       "      <td>NaN</td>\n",
       "      <td>18.492</td>\n",
       "      <td>18.470</td>\n",
       "      <td>18.580</td>\n",
       "      <td>18.500</td>\n",
       "      <td>107142.0</td>\n",
       "      <td>18.500</td>\n",
       "      <td>527157.0</td>\n",
       "      <td>NaN</td>\n",
       "      <td>NaN</td>\n",
       "    </tr>\n",
       "    <tr>\n",
       "      <th>3</th>\n",
       "      <td>15/12/2017 12:00:00 a.m.</td>\n",
       "      <td>DLR032018</td>\n",
       "      <td>Futuro</td>\n",
       "      <td>NaN</td>\n",
       "      <td>18.832</td>\n",
       "      <td>18.821</td>\n",
       "      <td>18.940</td>\n",
       "      <td>18.859</td>\n",
       "      <td>69107.0</td>\n",
       "      <td>18.854</td>\n",
       "      <td>328570.0</td>\n",
       "      <td>NaN</td>\n",
       "      <td>NaN</td>\n",
       "    </tr>\n",
       "    <tr>\n",
       "      <th>4</th>\n",
       "      <td>15/12/2017 12:00:00 a.m.</td>\n",
       "      <td>DLR042018</td>\n",
       "      <td>Futuro</td>\n",
       "      <td>NaN</td>\n",
       "      <td>19.315</td>\n",
       "      <td>19.200</td>\n",
       "      <td>19.320</td>\n",
       "      <td>19.244</td>\n",
       "      <td>39904.0</td>\n",
       "      <td>19.239</td>\n",
       "      <td>180449.0</td>\n",
       "      <td>NaN</td>\n",
       "      <td>NaN</td>\n",
       "    </tr>\n",
       "  </tbody>\n",
       "</table>\n",
       "</div>"
      ],
      "text/plain": [
       "                      Fecha         Posicion    Tipo  Ejercicio  Primero  \\\n",
       "0  15/12/2017 12:00:00 a.m.  DLR122017        Futuro        NaN   17.680   \n",
       "1  15/12/2017 12:00:00 a.m.  DLR012018        Futuro        NaN   18.160   \n",
       "2  15/12/2017 12:00:00 a.m.  DLR022018        Futuro        NaN   18.492   \n",
       "3  15/12/2017 12:00:00 a.m.  DLR032018        Futuro        NaN   18.832   \n",
       "4  15/12/2017 12:00:00 a.m.  DLR042018        Futuro        NaN   19.315   \n",
       "\n",
       "   Minimo  Maximo  Ultimo   Volumen  Ajuste / Prima Ref.  Interes Abierto  \\\n",
       "0  17.680  17.815  17.735  361750.0               17.735        1105801.0   \n",
       "1  18.110  18.225  18.145  127939.0               18.145         735644.0   \n",
       "2  18.470  18.580  18.500  107142.0               18.500         527157.0   \n",
       "3  18.821  18.940  18.859   69107.0               18.854         328570.0   \n",
       "4  19.200  19.320  19.244   39904.0               19.239         180449.0   \n",
       "\n",
       "   PrimaDescuento  Unnamed: 12  \n",
       "0             NaN          NaN  \n",
       "1             NaN          NaN  \n",
       "2             NaN          NaN  \n",
       "3             NaN          NaN  \n",
       "4             NaN          NaN  "
      ]
     },
     "execution_count": 48,
     "metadata": {
      "tags": []
     },
     "output_type": "execute_result"
    }
   ],
   "source": [
    "!mv $HOME/Downloads/FyOROFEX.xls data/FyOROFEX.xls\n",
    "!ls -l data/\n",
    "df=pd.read_table(\"data/FyOROFEX.xls\",decimal=\",\")\n",
    "df.head()"
   ]
  },
  {
   "cell_type": "code",
   "execution_count": 0,
   "metadata": {
    "colab": {
     "autoexec": {
      "startup": false,
      "wait_interval": 0
     },
     "output_extras": [
      {},
      {}
     ]
    },
    "colab_type": "code",
    "id": "dlyYWiSq4su2",
    "outputId": "32d9f454-57c1-4ba2-988a-ed668034c60a"
   },
   "outputs": [
    {
     "name": "stderr",
     "output_type": "stream",
     "text": [
      "/Users/rcontesti/anaconda/lib/python3.6/site-packages/ipykernel/__main__.py:19: SettingWithCopyWarning: \n",
      "A value is trying to be set on a copy of a slice from a DataFrame.\n",
      "Try using .loc[row_indexer,col_indexer] = value instead\n",
      "\n",
      "See the caveats in the documentation: http://pandas.pydata.org/pandas-docs/stable/indexing.html#indexing-view-versus-copy\n",
      "/Users/rcontesti/anaconda/lib/python3.6/site-packages/ipykernel/__main__.py:27: SettingWithCopyWarning: \n",
      "A value is trying to be set on a copy of a slice from a DataFrame.\n",
      "Try using .loc[row_indexer,col_indexer] = value instead\n",
      "\n",
      "See the caveats in the documentation: http://pandas.pydata.org/pandas-docs/stable/indexing.html#indexing-view-versus-copy\n",
      "/Users/rcontesti/anaconda/lib/python3.6/site-packages/ipykernel/__main__.py:36: SettingWithCopyWarning: \n",
      "A value is trying to be set on a copy of a slice from a DataFrame.\n",
      "Try using .loc[row_indexer,col_indexer] = value instead\n",
      "\n",
      "See the caveats in the documentation: http://pandas.pydata.org/pandas-docs/stable/indexing.html#indexing-view-versus-copy\n"
     ]
    },
    {
     "data": {
      "text/html": [
       "<div>\n",
       "<style scoped>\n",
       "    .dataframe tbody tr th:only-of-type {\n",
       "        vertical-align: middle;\n",
       "    }\n",
       "\n",
       "    .dataframe tbody tr th {\n",
       "        vertical-align: top;\n",
       "    }\n",
       "\n",
       "    .dataframe thead th {\n",
       "        text-align: right;\n",
       "    }\n",
       "</style>\n",
       "<table border=\"1\" class=\"dataframe\">\n",
       "  <thead>\n",
       "    <tr style=\"text-align: right;\">\n",
       "      <th></th>\n",
       "      <th>Fecha</th>\n",
       "      <th>Posicion</th>\n",
       "      <th>Ultimo</th>\n",
       "      <th>venc_day</th>\n",
       "      <th>days_to_venc</th>\n",
       "    </tr>\n",
       "  </thead>\n",
       "  <tbody>\n",
       "    <tr>\n",
       "      <th>0</th>\n",
       "      <td>2017-12-15</td>\n",
       "      <td>DLR122017</td>\n",
       "      <td>17.735</td>\n",
       "      <td>2017-12-29</td>\n",
       "      <td>14</td>\n",
       "    </tr>\n",
       "    <tr>\n",
       "      <th>1</th>\n",
       "      <td>2017-12-15</td>\n",
       "      <td>DLR012018</td>\n",
       "      <td>18.145</td>\n",
       "      <td>2018-01-31</td>\n",
       "      <td>47</td>\n",
       "    </tr>\n",
       "    <tr>\n",
       "      <th>2</th>\n",
       "      <td>2017-12-15</td>\n",
       "      <td>DLR022018</td>\n",
       "      <td>18.500</td>\n",
       "      <td>2018-02-28</td>\n",
       "      <td>75</td>\n",
       "    </tr>\n",
       "    <tr>\n",
       "      <th>3</th>\n",
       "      <td>2017-12-15</td>\n",
       "      <td>DLR032018</td>\n",
       "      <td>18.859</td>\n",
       "      <td>2018-03-30</td>\n",
       "      <td>105</td>\n",
       "    </tr>\n",
       "    <tr>\n",
       "      <th>4</th>\n",
       "      <td>2017-12-15</td>\n",
       "      <td>DLR042018</td>\n",
       "      <td>19.244</td>\n",
       "      <td>2018-04-30</td>\n",
       "      <td>136</td>\n",
       "    </tr>\n",
       "  </tbody>\n",
       "</table>\n",
       "</div>"
      ],
      "text/plain": [
       "        Fecha         Posicion  Ultimo    venc_day  days_to_venc\n",
       "0  2017-12-15  DLR122017        17.735  2017-12-29            14\n",
       "1  2017-12-15  DLR012018        18.145  2018-01-31            47\n",
       "2  2017-12-15  DLR022018        18.500  2018-02-28            75\n",
       "3  2017-12-15  DLR032018        18.859  2018-03-30           105\n",
       "4  2017-12-15  DLR042018        19.244  2018-04-30           136"
      ]
     },
     "execution_count": 49,
     "metadata": {
      "tags": []
     },
     "output_type": "execute_result"
    }
   ],
   "source": [
    "## Format Data ##\n",
    "\n",
    "\n",
    "df=pd.read_table(\"data/FyOROFEX.xls\",decimal=\",\")\n",
    "\n",
    "\n",
    "#Remplazar NA de precio por Ajuste\n",
    "\n",
    "df[\"Ultimo\"].fillna(df[\"Ajuste / Prima Ref.\"], inplace=True)\n",
    "\n",
    "\n",
    "#Solo seleccionar los que necesito\n",
    "\n",
    "futures=df[[\"Fecha\",\"Posicion\",\"Ultimo\"]]\n",
    "\n",
    "\n",
    "#Castear Fecha como Date en vez de DateTime\n",
    "\n",
    "futures[\"Fecha\"]=pd.to_datetime(df[\"Fecha\"],dayfirst=True).apply(lambda x: x.date())\n",
    "\n",
    "\n",
    "\n",
    "# Agregar Vencimiento\n",
    "\n",
    "offset = BMonthEnd()\n",
    "\n",
    "futures[\"venc_day\"]=futures[\"Posicion\"].apply(lambda x: \n",
    "                                              offset.rollforward(\n",
    "                                                  dt.date(int(x[5:10]),int(x[3:5]),1)\n",
    "                                              ).date()\n",
    "                                             )\n",
    "\n",
    "\n",
    "# Agregar dias al Vencimiento\n",
    "\n",
    "futures[\"days_to_venc\"]=(futures.venc_day-futures.Fecha).apply(lambda x: x.days)\n",
    "\n",
    "\n",
    "\n",
    "futures.head()\n",
    "\n",
    "\n",
    "\n",
    "\n"
   ]
  },
  {
   "cell_type": "markdown",
   "metadata": {
    "colab_type": "text",
    "id": "2SzYW8Vc4su5"
   },
   "source": [
    "# <a id=\"1\">2. Get FX Data</a>\n",
    "\n",
    "[Back to Index](#index)\n",
    "\n"
   ]
  },
  {
   "cell_type": "code",
   "execution_count": 0,
   "metadata": {
    "colab": {
     "autoexec": {
      "startup": false,
      "wait_interval": 0
     },
     "output_extras": [
      {}
     ]
    },
    "colab_type": "code",
    "id": "aSfIjMhJ4su5",
    "outputId": "70dabc25-c3a3-4e96-8644-cda7f41c67b4"
   },
   "outputs": [
    {
     "data": {
      "text/html": [
       "<div>\n",
       "<style scoped>\n",
       "    .dataframe tbody tr th:only-of-type {\n",
       "        vertical-align: middle;\n",
       "    }\n",
       "\n",
       "    .dataframe tbody tr th {\n",
       "        vertical-align: top;\n",
       "    }\n",
       "\n",
       "    .dataframe thead th {\n",
       "        text-align: right;\n",
       "    }\n",
       "</style>\n",
       "<table border=\"1\" class=\"dataframe\">\n",
       "  <thead>\n",
       "    <tr style=\"text-align: right;\">\n",
       "      <th></th>\n",
       "      <th>Fecha</th>\n",
       "      <th>comA3500</th>\n",
       "    </tr>\n",
       "  </thead>\n",
       "  <tbody>\n",
       "    <tr>\n",
       "      <th>3887</th>\n",
       "      <td>2017-12-11</td>\n",
       "      <td>17.2697</td>\n",
       "    </tr>\n",
       "    <tr>\n",
       "      <th>3888</th>\n",
       "      <td>2017-12-12</td>\n",
       "      <td>17.2635</td>\n",
       "    </tr>\n",
       "    <tr>\n",
       "      <th>3889</th>\n",
       "      <td>2017-12-13</td>\n",
       "      <td>17.3150</td>\n",
       "    </tr>\n",
       "    <tr>\n",
       "      <th>3890</th>\n",
       "      <td>2017-12-14</td>\n",
       "      <td>17.3567</td>\n",
       "    </tr>\n",
       "    <tr>\n",
       "      <th>3891</th>\n",
       "      <td>2017-12-15</td>\n",
       "      <td>17.5517</td>\n",
       "    </tr>\n",
       "  </tbody>\n",
       "</table>\n",
       "</div>"
      ],
      "text/plain": [
       "           Fecha  comA3500\n",
       "3887  2017-12-11   17.2697\n",
       "3888  2017-12-12   17.2635\n",
       "3889  2017-12-13   17.3150\n",
       "3890  2017-12-14   17.3567\n",
       "3891  2017-12-15   17.5517"
      ]
     },
     "execution_count": 56,
     "metadata": {
      "tags": []
     },
     "output_type": "execute_result"
    }
   ],
   "source": [
    "url=\"http://www.bcra.gov.ar/Pdfs/PublicacionesEstadisticas/com3500.xls\"\n",
    "fx=pd.read_excel(url,usecols=\"C,D\",skiprows=[0,1,2],names=[\"Fecha\",\"comA3500\"])\n",
    "fx[\"Fecha\"]=fx[\"Fecha\"].apply(lambda x: x.date())\n",
    "fx.tail()"
   ]
  },
  {
   "cell_type": "markdown",
   "metadata": {
    "colab_type": "text",
    "id": "VLNTTTVT4su8"
   },
   "source": [
    "# <a id=\"3\">3. Get LEBAC DATA</a>\n",
    "[Back to Index](#index)"
   ]
  },
  {
   "cell_type": "code",
   "execution_count": 0,
   "metadata": {
    "colab": {
     "autoexec": {
      "startup": false,
      "wait_interval": 0
     },
     "output_extras": [
      {}
     ]
    },
    "colab_type": "code",
    "id": "PFiStIwt4su8",
    "outputId": "fdfcbdcc-ce15-468c-de49-3d4532a7378a"
   },
   "outputs": [
    {
     "name": "stdout",
     "output_type": "stream",
     "text": [
      "      indice_tiempo                 tipo       venc  venc_days     precio  \\\n",
      "12019    2017-11-27  lebac_interna_pesos 2018-06-21      206.0  856.83338   \n",
      "12020    2017-11-28  lebac_interna_pesos 2018-06-21      205.0  857.37670   \n",
      "12021    2017-11-29  lebac_interna_pesos 2018-06-21      204.0  857.95424   \n",
      "12022    2017-11-30  lebac_interna_pesos 2018-06-21      203.0  858.61240   \n",
      "12023    2017-12-01  lebac_interna_pesos 2018-06-21      202.0  859.22253   \n",
      "\n",
      "           tasa  \n",
      "12019  0.296054  \n",
      "12020  0.296181  \n",
      "12021  0.296229  \n",
      "12022  0.296081  \n",
      "12023  0.296053  \n",
      "max date is 2017-12-01 00:00:00\n"
     ]
    }
   ],
   "source": [
    "#Import dataset to df\n",
    "\n",
    "col=\"dataset_titulo\" \n",
    "dataset_titulo=\"Lebac mercado secundario\"\n",
    "url=\"http://infra.datos.gob.ar/catalog/sspm/dataset/304/distribution/\\\n",
    "304.1/download/lebac-mercado-secundario-tasa-interes-na.csv\"\n",
    "\n",
    "l2=pd.read_csv(url)\n",
    "\n",
    "# Stack Dataset\n",
    "l2=l2.melt(id_vars=[\"indice_tiempo\"],var_name=\"var_name\",value_name=\"tasa\")\n",
    "l2=l2[pd.isnull(l2.tasa)!=True]\n",
    "\n",
    "#Caste Date\n",
    "l2.indice_tiempo=pd.to_datetime(l2.indice_tiempo)\n",
    "\n",
    "#Get Tipo de Tasa\n",
    "l2[\"tipo\"]=l2[\"var_name\"].apply( lambda x: \"_\".join(x.split(\"_\")[0:3]))\n",
    "\n",
    "#Venciemiento\n",
    "l2[\"venc\"]=l2[\"var_name\"].apply(lambda x: dt.date(int(x.split(\"_\")[3]),int(x.split(\"_\")[4]),int(x.split(\"_\")[5])))\n",
    "l2.venc=pd.to_datetime(l2.venc)\n",
    "\n",
    "# Dias al Vencimiento\n",
    "l2[\"venc_days\"]=(l2.venc-l2.indice_tiempo).apply(lambda x: float(x.days))\n",
    "\n",
    "# Precio Implicito de la Tasa\n",
    "l2[\"precio\"]=1000/(1+l2.tasa*l2.venc_days/365)\n",
    "\n",
    "lebac=l2[[\"indice_tiempo\",\"tipo\",\"venc\",\"venc_days\",\"precio\",\"tasa\"]]\n",
    "lebac.to_pickle(\"data/lebac_sec\")\n",
    "print(lebac.tail())\n",
    "print(\"max date is {}\".format(lebac.indice_tiempo.max()))\n",
    "del l2, lebac"
   ]
  },
  {
   "cell_type": "markdown",
   "metadata": {
    "colab_type": "text",
    "id": "9cIvAVLy4su_"
   },
   "source": [
    "# <a id=\"4\">4. Merge and Save Data to pickle</a>\n",
    "\n",
    "[Back to Index](#index)"
   ]
  },
  {
   "cell_type": "code",
   "execution_count": 0,
   "metadata": {
    "colab": {
     "autoexec": {
      "startup": false,
      "wait_interval": 0
     },
     "output_extras": [
      {}
     ]
    },
    "colab_type": "code",
    "id": "NhKfzeCP4su_",
    "outputId": "eab34f77-652a-49e2-b578-be9b2aaeaafd"
   },
   "outputs": [
    {
     "data": {
      "text/html": [
       "<div>\n",
       "<style scoped>\n",
       "    .dataframe tbody tr th:only-of-type {\n",
       "        vertical-align: middle;\n",
       "    }\n",
       "\n",
       "    .dataframe tbody tr th {\n",
       "        vertical-align: top;\n",
       "    }\n",
       "\n",
       "    .dataframe thead th {\n",
       "        text-align: right;\n",
       "    }\n",
       "</style>\n",
       "<table border=\"1\" class=\"dataframe\">\n",
       "  <thead>\n",
       "    <tr style=\"text-align: right;\">\n",
       "      <th></th>\n",
       "      <th>Fecha</th>\n",
       "      <th>Posicion</th>\n",
       "      <th>Ultimo</th>\n",
       "      <th>venc_day</th>\n",
       "      <th>days_to_venc</th>\n",
       "      <th>comA3500</th>\n",
       "      <th>rate</th>\n",
       "      <th>ytm</th>\n",
       "    </tr>\n",
       "  </thead>\n",
       "  <tbody>\n",
       "    <tr>\n",
       "      <th>0</th>\n",
       "      <td>2017-12-15</td>\n",
       "      <td>DLR122017</td>\n",
       "      <td>17.735</td>\n",
       "      <td>2017-12-29</td>\n",
       "      <td>14</td>\n",
       "      <td>17.5517</td>\n",
       "      <td>0.010443</td>\n",
       "      <td>0.311096</td>\n",
       "    </tr>\n",
       "    <tr>\n",
       "      <th>1</th>\n",
       "      <td>2017-12-15</td>\n",
       "      <td>DLR012018</td>\n",
       "      <td>18.145</td>\n",
       "      <td>2018-01-31</td>\n",
       "      <td>47</td>\n",
       "      <td>17.5517</td>\n",
       "      <td>0.033803</td>\n",
       "      <td>0.294563</td>\n",
       "    </tr>\n",
       "    <tr>\n",
       "      <th>2</th>\n",
       "      <td>2017-12-15</td>\n",
       "      <td>DLR022018</td>\n",
       "      <td>18.500</td>\n",
       "      <td>2018-02-28</td>\n",
       "      <td>75</td>\n",
       "      <td>17.5517</td>\n",
       "      <td>0.054029</td>\n",
       "      <td>0.291861</td>\n",
       "    </tr>\n",
       "    <tr>\n",
       "      <th>3</th>\n",
       "      <td>2017-12-15</td>\n",
       "      <td>DLR032018</td>\n",
       "      <td>18.859</td>\n",
       "      <td>2018-03-30</td>\n",
       "      <td>105</td>\n",
       "      <td>17.5517</td>\n",
       "      <td>0.074483</td>\n",
       "      <td>0.283676</td>\n",
       "    </tr>\n",
       "    <tr>\n",
       "      <th>4</th>\n",
       "      <td>2017-12-15</td>\n",
       "      <td>DLR042018</td>\n",
       "      <td>19.244</td>\n",
       "      <td>2018-04-30</td>\n",
       "      <td>136</td>\n",
       "      <td>17.5517</td>\n",
       "      <td>0.096418</td>\n",
       "      <td>0.280233</td>\n",
       "    </tr>\n",
       "  </tbody>\n",
       "</table>\n",
       "</div>"
      ],
      "text/plain": [
       "        Fecha         Posicion  Ultimo    venc_day  days_to_venc  comA3500  \\\n",
       "0  2017-12-15  DLR122017        17.735  2017-12-29            14   17.5517   \n",
       "1  2017-12-15  DLR012018        18.145  2018-01-31            47   17.5517   \n",
       "2  2017-12-15  DLR022018        18.500  2018-02-28            75   17.5517   \n",
       "3  2017-12-15  DLR032018        18.859  2018-03-30           105   17.5517   \n",
       "4  2017-12-15  DLR042018        19.244  2018-04-30           136   17.5517   \n",
       "\n",
       "       rate       ytm  \n",
       "0  0.010443  0.311096  \n",
       "1  0.033803  0.294563  \n",
       "2  0.054029  0.291861  \n",
       "3  0.074483  0.283676  \n",
       "4  0.096418  0.280233  "
      ]
     },
     "execution_count": 58,
     "metadata": {
      "tags": []
     },
     "output_type": "execute_result"
    }
   ],
   "source": [
    "#TODO: stack la tabla lebac con Posicion LEBMMYYY, o sea con las mismas columnas\n",
    "\n",
    "data = pd.merge(futures, fx,  how='left', left_on='Fecha', right_on = 'Fecha')\n",
    "data[\"rate\"]=data.Ultimo/data.comA3500-1\n",
    "data[\"ytm\"]=((data.Ultimo/data.comA3500)**(365/data.days_to_venc))-1\n",
    "data.to_pickle(\"data/data.pkl\")\n",
    "data.head()\n",
    "\n"
   ]
  },
  {
   "cell_type": "markdown",
   "metadata": {
    "colab_type": "text",
    "id": "xOdk-Bc34svD"
   },
   "source": [
    "# <a id=\"5\">5. Load Data<a/>\n",
    "[Back to Index](#index)"
   ]
  },
  {
   "cell_type": "code",
   "execution_count": 0,
   "metadata": {
    "colab": {
     "autoexec": {
      "startup": false,
      "wait_interval": 0
     },
     "output_extras": [
      {}
     ]
    },
    "colab_type": "code",
    "id": "P4fX7o9n4svE",
    "outputId": "e26f4090-d2ff-48c4-adb4-52646a9df0bf"
   },
   "outputs": [
    {
     "data": {
      "application/vnd.jupyter.widget-view+json": {
       "model_id": "6c87c38e2618400ca9c61d44aee370fd",
       "version_major": 2,
       "version_minor": 0
      },
      "text/plain": [
       "A Jupyter Widget"
      ]
     },
     "metadata": {
      "tags": []
     },
     "output_type": "display_data"
    }
   ],
   "source": [
    "df=pd.read_pickle(\"data/data.pkl\")\n",
    "\n",
    "# Corregir el archivo Original Asi puedo borrar estas lineas\n",
    "try:\n",
    "    df[\"Fecha\"]=df[\"Fecha\"].apply(lambda x: x.date())\n",
    "    df[\"venc_day\"]=df[\"venc_day\"].apply(lambda x: x.date())\n",
    "except:\n",
    "    pass\n",
    "\n",
    "\n",
    "\n",
    "grid=qgrid.show_grid(df)\n",
    "display(grid)\n"
   ]
  },
  {
   "cell_type": "markdown",
   "metadata": {
    "colab_type": "text",
    "id": "t8V4bd7t4svG",
    "slideshow": {
     "slide_type": "slide"
    }
   },
   "source": [
    "# <a id=\"6\">6. Plot Data<a/>\n",
    "[Back to Index](#index)"
   ]
  },
  {
   "cell_type": "code",
   "execution_count": 0,
   "metadata": {
    "colab": {
     "autoexec": {
      "startup": false,
      "wait_interval": 0
     },
     "output_extras": [
      {},
      {}
     ]
    },
    "colab_type": "code",
    "id": "WaKeAPn84svH",
    "outputId": "b380dbcd-4f96-4bd1-cdc5-7db25d5a2823",
    "slideshow": {
     "slide_type": "slide"
    }
   },
   "outputs": [
    {
     "data": {
      "application/vnd.jupyter.widget-view+json": {
       "model_id": "0a273a64cd6d45a29f21980e01d57ffc",
       "version_major": 2,
       "version_minor": 0
      },
      "text/plain": [
       "A Jupyter Widget"
      ]
     },
     "metadata": {
      "tags": []
     },
     "output_type": "display_data"
    },
    {
     "data": {
      "text/plain": [
       "<function __main__.plot_tseries>"
      ]
     },
     "execution_count": 52,
     "metadata": {
      "tags": []
     },
     "output_type": "execute_result"
    }
   ],
   "source": [
    "\n",
    "#Convert to Generic vars\n",
    "\n",
    "\n",
    "def plot_tseries(filter,filter_value,dataframe,xvar,yvar,labels_var, y_in_perc, line=\"\"):\n",
    "    plt.close()\n",
    "    fil=(dataframe[filter]==filter_value)\n",
    "    ax=dataframe[fil].plot(x=xvar,y=yvar,marker=\"o\",linestyle=line, figsize=(20,10), grid=1,legend=None,fontsize='17')\n",
    "\n",
    "    # Set Ticks\n",
    "    xtick = pd.date_range( dataframe[fil][xvar].min( ), dataframe[fil][xvar].max( ), freq='W' )\n",
    "    ax.set_xticks( xtick, minor=True )\n",
    "    #ax.grid('on', which='minor', axis='x' )\n",
    "    #ax.grid('on', which='major', axis='x' )\n",
    "\n",
    "    # Add Labels\n",
    "    plt.xlabel(xvar.upper(),fontweight='bold', color = 'orange', fontsize='17', horizontalalignment='center')\n",
    "\n",
    "    plt.ylabel(yvar.upper(),fontweight='bold', color = 'orange', fontsize='17', horizontalalignment='center')\n",
    "\n",
    "\n",
    "    plt.gcf().autofmt_xdate()# Tilts dates so that they feet\n",
    "\n",
    "    #Make Y Ticks percentages\n",
    "    if y_in_perc==True:\n",
    "        plt.axes().set_yticklabels(['{:3.2f}%'.format(l*100) for l in dataframe[fil][yvar]])# Percentage Format\n",
    "    else:\n",
    "        pass\n",
    "    \n",
    "    #Annotate\n",
    "    I=dataframe[fil].index        \n",
    "    if labels_var!=\"\":\n",
    "        for i in I:\n",
    "            ax.annotate(dataframe[fil][labels_var][i],(dataframe[fil][xvar][i],dataframe[fil][yvar][i]),fontsize='17')\n",
    "    else:\n",
    "        i=dataframe[fil].index.min()\n",
    "        ax.annotate(dataframe[fil][yvar][i],(dataframe[fil][xvar][i],dataframe[fil][yvar][i]),fontsize='17')\n",
    "\n",
    "    \n",
    "    plt.show()\n",
    "    \n",
    "\n",
    "interact(plot_tseries,\n",
    "         filter=fixed(\"Fecha\"),\n",
    "         filter_value=widgets.Dropdown(\n",
    "                                 options= list(df['Fecha'].unique()),\n",
    "                                 value=datetime.date(2017, 12, 15),\n",
    "                                 description='Fecha',\n",
    "                                 disabled=False,\n",
    "                                 layout=Layout(display='flex',\n",
    "                                               flex_flow='row',\n",
    "                                                align_items='stretch')                          \n",
    "                                ),\n",
    "         dataframe=fixed(df), # poniendo fixed lo quita de las opciones\n",
    "         xvar=\"venc_day\",\n",
    "         yvar=\"ytm\",\n",
    "         labels_var=\"Ultimo\",\n",
    "         y_in_perc=fixed(True),\n",
    "         line=\"--\"\n",
    "        )"
   ]
  },
  {
   "cell_type": "code",
   "execution_count": 0,
   "metadata": {
    "colab": {
     "autoexec": {
      "startup": false,
      "wait_interval": 0
     },
     "output_extras": [
      {},
      {}
     ]
    },
    "colab_type": "code",
    "id": "iClvecQe4svK",
    "outputId": "75e84f82-1feb-46c3-ba64-0e82adcab8a5",
    "slideshow": {
     "slide_type": "slide"
    }
   },
   "outputs": [
    {
     "data": {
      "application/vnd.jupyter.widget-view+json": {
       "model_id": "e4d1f6beab844310937ff3486e244333",
       "version_major": 2,
       "version_minor": 0
      },
      "text/plain": [
       "A Jupyter Widget"
      ]
     },
     "metadata": {
      "tags": []
     },
     "output_type": "display_data"
    },
    {
     "data": {
      "text/plain": [
       "<function __main__.plot_tseries>"
      ]
     },
     "execution_count": 53,
     "metadata": {
      "tags": []
     },
     "output_type": "execute_result"
    }
   ],
   "source": [
    "interact(plot_tseries,\n",
    "         filter=fixed(\"Posicion\"),\n",
    "         filter_value=widgets.Dropdown(\n",
    "                                 options= list(df['Posicion'].unique()),\n",
    "                                 value=df['Posicion'].unique().max(),\n",
    "                                 description='Contrato',\n",
    "                                 disabled=False,\n",
    "                                ),\n",
    "         dataframe=fixed(df), # poniendo fixed lo quita de las opciones\n",
    "         xvar=\"Fecha\",\n",
    "         yvar=\"Ultimo\",\n",
    "         labels_var=\"\",\n",
    "         y_in_perc=fixed(False),\n",
    "         line=\"--\"\n",
    "        )"
   ]
  },
  {
   "cell_type": "code",
   "execution_count": 0,
   "metadata": {
    "colab": {
     "autoexec": {
      "startup": false,
      "wait_interval": 0
     }
    },
    "colab_type": "code",
    "collapsed": true,
    "id": "AOdZMDeP4svM"
   },
   "outputs": [],
   "source": [
    "# TODO: repetir los mismos graficos con PLOTLY y  DASH de PLOTLY Hacerce experto en estos. Los dos son open source y con licencia del MIT\n"
   ]
  }
 ],
 "metadata": {
  "colab": {
   "default_view": {},
   "name": "lebac_usd_analisis.ipynb",
   "provenance": [],
   "version": "0.3.2",
   "views": {}
  },
  "kernelspec": {
   "display_name": "Python 3",
   "language": "python",
   "name": "python3"
  },
  "language_info": {
   "codemirror_mode": {
    "name": "ipython",
    "version": 3
   },
   "file_extension": ".py",
   "mimetype": "text/x-python",
   "name": "python",
   "nbconvert_exporter": "python",
   "pygments_lexer": "ipython3",
   "version": "3.6.3"
  }
 },
 "nbformat": 4,
 "nbformat_minor": 1
}
